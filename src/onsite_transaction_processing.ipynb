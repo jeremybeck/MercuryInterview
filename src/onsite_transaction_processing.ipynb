{
 "cells": [
  {
   "metadata": {},
   "cell_type": "markdown",
   "source": "# Product Onsite Analysis",
   "id": "609b2734838dedb6"
  },
  {
   "metadata": {
    "ExecuteTime": {
     "end_time": "2025-02-14T19:26:34.510799Z",
     "start_time": "2025-02-14T19:26:21.555242Z"
    }
   },
   "cell_type": "code",
   "source": [
    "import pandas as pd\n",
    "from prompts import *\n",
    "from policy_qa import *"
   ],
   "id": "d079c13a69e3b866",
   "outputs": [
    {
     "name": "stderr",
     "output_type": "stream",
     "text": [
      "/Users/jmbeck/PycharmProjects/PythonProject/MercuryInterview/src/language_models.py:11: LangChainDeprecationWarning: The class `HuggingFaceEmbeddings` was deprecated in LangChain 0.2.2 and will be removed in 1.0. An updated version of the class exists in the :class:`~langchain-huggingface package and should be used instead. To use it run `pip install -U :class:`~langchain-huggingface` and import as `from :class:`~langchain_huggingface import HuggingFaceEmbeddings``.\n",
      "  embeddings = SentenceTransformerEmbeddings(model_name=\"all-MiniLM-L6-v2\")\n",
      "/Users/jmbeck/PycharmProjects/PythonProject/MercuryInterviewMercuryInterview.venv/lib/python3.12/site-packages/tqdm/auto.py:21: TqdmWarning: IProgress not found. Please update jupyter and ipywidgets. See https://ipywidgets.readthedocs.io/en/stable/user_install.html\n",
      "  from .autonotebook import tqdm as notebook_tqdm\n"
     ]
    }
   ],
   "execution_count": 2
  },
  {
   "metadata": {},
   "cell_type": "markdown",
   "source": "### Load Data",
   "id": "b3e2f5a09087a323"
  },
  {
   "metadata": {
    "ExecuteTime": {
     "end_time": "2025-02-14T19:27:04.148307Z",
     "start_time": "2025-02-14T19:27:03.806510Z"
    }
   },
   "cell_type": "code",
   "source": "onsite_expenses = pd.read_excel('../data/Mercury Transactions Example Safe to Share - 20250211 - Send.xlsx')",
   "id": "e49482f6632d2843",
   "outputs": [],
   "execution_count": 3
  },
  {
   "metadata": {
    "ExecuteTime": {
     "end_time": "2025-02-14T19:27:08.322346Z",
     "start_time": "2025-02-14T19:27:08.315490Z"
    }
   },
   "cell_type": "code",
   "source": "onsite_expenses.shape",
   "id": "bd18c817861d1ba3",
   "outputs": [
    {
     "data": {
      "text/plain": [
       "(165, 34)"
      ]
     },
     "execution_count": 4,
     "metadata": {},
     "output_type": "execute_result"
    }
   ],
   "execution_count": 4
  },
  {
   "metadata": {
    "ExecuteTime": {
     "end_time": "2025-02-14T19:28:03.711095Z",
     "start_time": "2025-02-14T19:28:03.708575Z"
    }
   },
   "cell_type": "code",
   "source": "",
   "id": "1398110621091163",
   "outputs": [],
   "execution_count": 6
  },
  {
   "metadata": {
    "ExecuteTime": {
     "end_time": "2025-02-14T19:28:03.865691Z",
     "start_time": "2025-02-14T19:28:03.863816Z"
    }
   },
   "cell_type": "code",
   "source": "",
   "id": "14853150a834bbf2",
   "outputs": [],
   "execution_count": null
  },
  {
   "metadata": {},
   "cell_type": "code",
   "outputs": [],
   "execution_count": null,
   "source": "",
   "id": "885e5f76781a23be"
  }
 ],
 "metadata": {
  "kernelspec": {
   "display_name": "Python 3",
   "language": "python",
   "name": "python3"
  },
  "language_info": {
   "codemirror_mode": {
    "name": "ipython",
    "version": 2
   },
   "file_extension": ".py",
   "mimetype": "text/x-python",
   "name": "python",
   "nbconvert_exporter": "python",
   "pygments_lexer": "ipython2",
   "version": "2.7.6"
  }
 },
 "nbformat": 4,
 "nbformat_minor": 5
}
