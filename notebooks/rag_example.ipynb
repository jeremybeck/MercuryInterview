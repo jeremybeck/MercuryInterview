{
 "cells": [
  {
   "cell_type": "code",
   "id": "initial_id",
   "metadata": {
    "collapsed": true,
    "ExecuteTime": {
     "end_time": "2025-02-14T04:11:09.635489Z",
     "start_time": "2025-02-14T04:11:07.324109Z"
    }
   },
   "source": [
    "import fitz\n",
    "from langchain.chains.question_answering.map_rerank_prompt import output_parser\n",
    "from langchain.text_splitter import RecursiveCharacterTextSplitter\n",
    "from langchain.vectorstores import FAISS\n",
    "from langchain.embeddings.sentence_transformer import SentenceTransformerEmbeddings\n",
    "from langchain_core.output_parsers import PydanticOutputParser, JsonOutputParser\n",
    "from langchain_openai import ChatOpenAI\n",
    "\n",
    "embeddings = SentenceTransformerEmbeddings(model_name=\"all-MiniLM-L6-v2\")\n",
    "base_llm = ChatOpenAI(openai_api_key=st.secrets['hg_key'], model='gpt-4o-mini', temperature=0.5)\n",
    "\n",
    "\n",
    "def extract_pdf_structure(file_path):\n",
    "    doc = fitz.open(file_path)\n",
    "    content = []\n",
    "\n",
    "    for page in doc:\n",
    "        blocks = page.get_text(\"dict\")[\"blocks\"]\n",
    "        for block in blocks:\n",
    "            if block['type'] == 0:  # Text block\n",
    "                for line in block['lines']:\n",
    "                    for span in line['spans']:\n",
    "                        text = span['text']\n",
    "                        font_size = span['size']\n",
    "                        # Identify headings based on font size or style\n",
    "                        if font_size > 15:\n",
    "                            content.append(f\"# {text}\")  # H1\n",
    "                        elif font_size > 12:\n",
    "                            content.append(f\"## {text}\")  # H2\n",
    "                        else:\n",
    "                            content.append(text)\n",
    "    return \"\\n\".join(content)\n",
    "\n",
    "text_splitter = RecursiveCharacterTextSplitter(\n",
    "    chunk_size=2000,\n",
    "    chunk_overlap=100,\n",
    "    separators=[\"\\n## \", \"\\n# \", \"\\n\", \".\"]\n",
    ")\n",
    "\n"
   ],
   "outputs": [],
   "execution_count": 27
  },
  {
   "metadata": {
    "ExecuteTime": {
     "end_time": "2025-02-14T04:11:26.583860Z",
     "start_time": "2025-02-14T04:11:24.977627Z"
    }
   },
   "cell_type": "code",
   "source": [
    "onsite_policy = extract_pdf_structure(\"../data/Mercury Onsite Policy.pdf\")\n",
    "\n",
    "onsite_policy_chunks = text_splitter.create_documents([onsite_policy])"
   ],
   "id": "cab14c4990db0d35",
   "outputs": [],
   "execution_count": 29
  },
  {
   "metadata": {
    "ExecuteTime": {
     "end_time": "2025-02-14T04:11:28.351557Z",
     "start_time": "2025-02-14T04:11:27.813653Z"
    }
   },
   "cell_type": "code",
   "source": [
    "default_policy = extract_pdf_structure(\"../data/Mercury_Expense_General_Policy.pdf\")\n",
    "\n",
    "default_policy_chunks = text_splitter.create_documents([default_policy])"
   ],
   "id": "8a8c147739a61325",
   "outputs": [],
   "execution_count": 30
  },
  {
   "metadata": {
    "ExecuteTime": {
     "end_time": "2025-02-14T04:11:28.369072Z",
     "start_time": "2025-02-14T04:11:28.364513Z"
    }
   },
   "cell_type": "code",
   "source": "len(default_policy_chunks)",
   "id": "4c95ea076ebf5788",
   "outputs": [
    {
     "data": {
      "text/plain": [
       "14"
      ]
     },
     "execution_count": 31,
     "metadata": {},
     "output_type": "execute_result"
    }
   ],
   "execution_count": 31
  },
  {
   "metadata": {
    "ExecuteTime": {
     "end_time": "2025-02-14T04:11:30.138560Z",
     "start_time": "2025-02-14T04:11:30.133121Z"
    }
   },
   "cell_type": "code",
   "source": "default_policy_chunks",
   "id": "362f463acbcf82d7",
   "outputs": [
    {
     "data": {
      "text/plain": [
       "[Document(metadata={}, page_content='# 💳\\n# Expense Policy (2025 updates)\\nNote: This policy was announced at the MMM on 12/19/23. Q&A session on 01/04/24. \\n💡\\nMercury cards are issued with a $500 monthly spend limit. If you need an increase please submit a request in \\n#io-credit-limit-changes-or-card-requests\\n.'),\n",
       " Document(metadata={}, page_content=\"## Overview\\nStarting 01/01/24, \\nLunch Perks\\n  will be taxed on a monthly basis (similar to wellness benefits) and must be categorized as \\nsuch by the cardholder using Mercury.com’s Accounting Page or the mobile app\\nAll, not just Lunch Perks, card transactions must be categorized \\n(\\n GL Code\\n  is what we need) by the 1st of the following \\nmonth\\nFollow our \\nCredit Card Categorization Policy\\nThis (coupled with the need for a receipt on file for any transaction > $75) will align Mercury with IRS guidance. We \\ndo not make these rules but are getting compliant with them\\nThe standard $250 Daily Credit Limit will be switching to a $500 Monthly Credit Limit starting 02/01/24\\nExpense Policy (2025 updates)\\n1\\nWhat’s not changing?\\nThe Lunch Perks aka Meal Perks (GL Code = \\nLunch Perks\\n ). It’s a great perk we just want to provide clarification on how to \\nuse it and become compliant with regulations\\nOffice Meals\\n  (aka in-office mea\\nls) will NOT count towards the $100/week budget and will NOT be taxed\\nThese are organized by Workplace Ops\\nOffice Snacks/Coffee Runs\\nCoffee runs. We still encourage coffee runs with your co-worker when in the office! Label as “Office Meals”\\nSnacks in the office. We know you love snacks, we do too! These are purchased by the Workplace Ops team. Let \\nthem know if you have requests\\nAs a general rule of thumb:\\nWhen using your personal card (on the rare occasion it is needed), save receipts and expense via Abacus (US) or \\nNAVAN (CAN)\\nWhen using your Mercury card on transactions over $75, please attach receipts to the corresponding transaction in \\nMercury. Please always code (categorize) the transaction\\nIndirect costs associated with travel for Mercury events are the employee's responsibility (e.g. pet boarding)\"),\n",
       " Document(metadata={}, page_content='## Mercury Card Uses\\nAccounting page is available in Mercury (web)\\n to better review and categorize all your IO transactions.\\n GL Code\\n  for each \\ntransaction can be chosen (individually) via the latest iOS/Android app as well\\nGL Code\\n  is what we need. \\nBecause of timely financial and payroll reporting needs, being out of office does not \\nabsolve us from coding our transactions on time. Please plan accordingly\\nLunch Perks\\n  = $100 per week for Meals\\nDo not double dip\\n. The purpose of this perk is to provide lunch during your work day. If you are traveling for work or \\non vacation or on leave, then you should not also spend your lunch perk on top of that\\nIf you are over/under for a week, that’s okay and you can even it out the next week\\nA bulk purchase for the month is okay too. Example: Spend $400 at Price Chopper and don’t use your card for \\nLunch Perks for 4 weeks\\nAlthough not an immediate use of the perk, gift cards for services like DoorDash or Uber Eats are allowed within \\nreason. Please ensure the purchase is properly categorized (GL Code: \\nLunch Perks\\n ) as it may auto-categorize as \\nSoftware\\n  because of its specific nature\\nAs a rule of thumb, the prorated amount is $20/day. Here are some examples:\\nIf you are at an offsite for 4 days, those are travel meals or team events. Do not double dip your lunch budget. \\nYou have 1 day of lunch budget remaining, so prorated at $20\\nExpense Policy (2025 updates)\\n2\\nYou are on vacation 3 days, then you have 2 days or $40 of lunch budget\\nMonday is a Holiday and you work Tuesday-Thursday. Your lunch budget for the week is $80\\nYou and a coworker go to lunch and spend $50 each. You each used $50 of your $100/wk lunch budget\\n✈️\\n\\xa0\\nWhen traveling for work (including onsites):\\nGENERAL GUIDANCE\\n: If the spend is for transportation, \\nuse the transportation GL Codes like \\nGround Transportation\\n  or \\nAirfare\\n .\\n \\nIf the spend is for Lodging, use the GL Code \\nLodging\\n . — Do not change these based on intent/project —'),\n",
       " Document(metadata={}, page_content='Lodging\\n . — Do not change these based on intent/project —\\nFood and drinks: breakfast, coffee, snacks, lunch, dinner, etc.\\nKeep the total spend at $100 per diem. Use GL Code \\nTravel - Meals\\nTransportation during your trip for work purposes:  \\nUber, Lyft, public transportation or rental cars (if needed). Use GL Code = \\nGround Transportation\\nFor Airfare and baggage costs, use GL Code = \\nAirfare\\nIf traveling for a company or team event, the GL Code should still remain Ground Transportation or Airfare for \\ntransportation spend, or Lodging as applicable. Do not use the Internal Events GL Codes (that is for the cost of \\nthe actual event, like a ticket to a game)\\nWifi access as needed + Covid-19 Antigen rapid tests, GL Code = \\nTravel - Other/Wifi\\nOptional: Pay-at-hotel reservations via Navan\\nFor Hotel Reservations (not flights)\\n: Feel free to use your personal card (to get those travel points!) and \\nexpense via Abacus or NAVAN, or your mercury card. \\nPlease do mention in the comments of the \\nreimbursement that the hotel reservation was still booked using Navan (a requirement)\\nOnsite/Offsite activity expenses (not travel, but the actual event like a ticket):\\nIf team or department based, use GL Code \\nInternal Events - Team\\nIf company or office-wide, use GL Code \\nInternal Events - Company\\nRefer to guidelines here: \\n🌍\\nOnsite Guide \\n🌲\\n2024 Offsite Policy & Extended All Hands  \\nOffice Snacks/Coffee Runs\\n  when working at the office\\nThis is separate from \\nLunch Perks\\n . Feel free to get a coffee/smoothie with a co-worker when working out of the office. \\n(Be reasonable please \\n🙂\\n)\\nInternal Events - Team\\n  = Team-based virtual events: ~$50-$75 per person a quarter per team\\nIf the spend is for transportation, do not use Internal Events but use the transportation categories like \\nGround \\nTransportation\\n  or \\nAirfare\\nInternal Events - Company\\n  = Company-based virtual events\\nSpecific company events have pre-approved budgets. For example, sandwich making events allow $30. Please tag'),\n",
       " Document(metadata={}, page_content='Internal Events - Company\\nIf the spend is for transportation, do not use Internal Events but use the transportation categories like \\nGround \\nTransportation\\n  or \\nAirfare\\nLocal “Office” Get-togethers\\n: For those not by an office, a quarterly get together with your local co-workers is \\nsupported. Please keep the budget under $100 per person\\nCode it as \\nInternal Events - Company\\n  GL Code\\nFor office HH/outings, Workplace Ops plans these events. \\nThe below transactions are \\nnot allowed\\n:\\n⛔\\n\\xa0Cash withdrawals- ATM or cash back at a register \\n⛔\\n\\xa0Venmo / CashApp / PayPal transactions\\nExpense Policy (2025 updates)\\n3\\nIf you have to use PayPal to pay a contractor or another special situation, reach out to the finance team\\n⛔\\n\\xa0Vendor Bill-pay payments - Follow our Procure to Pay policy\\nException: Applicable expenses that do NOT require a ZIP request thus would only require manager approval\\nNote: All software + other applicable purchases must go through our Procure to Pay workflow i.e. create a \\nZIP request'),\n",
       " Document(metadata={}, page_content='## How To Categorize My Mercury Card Expenses\\nFollow the detail instructions here:\\n \\n💳\\nCredit Card Categorization Policy \\nFor these categories below, the \\nGL Code\\n  will auto-populate (based on the Mercury Category, if available). This is an ongoing \\neffort to reduce manual input.\\n \\nVERY IMPORTANT: You have to confirm the GL Code is indeed correct!\\nNotes\\xa0\\nfor each transaction are still available in the\\xa0\\nTransactions\\n\\xa0page of\\xa0Mercury.com\\xa0(just not currently in \\nthe\\xa0\\nAccounting\\xa0\\npage). Please use your discretion on what merits a note. For\\xa0\\n Lunch Perks\\n \\xa0for instance, we do not require any \\nnote, just you choosing the GL Code from the dropdown in Accounting page'),\n",
       " Document(metadata={}, page_content=\"## Expense Reimbursements\\nFollow our reimbursement policies (Abacus for US-based employees and NAVAn for CAN-based employees):\\nABACUS \\n🇺🇸\\nNAVAN \\n🇨🇦\\n💆\\nBenepass (For Wellness and Learning and Development exclusively)\\nGENERAL RULES: \\nWhat should be expensed for reimbursement (in Abacus or Navan):\\n$600 one-time Work From Home Budget\\nCo-working space: 8 day passes per month max (2025 Update). Please see the People Team’s Perks page for \\ndetails. \\nDO NOT USE YOUR IO CARD.\\nBook Budget\\nWhen traveling for work: \\nMileage for Driving, in place of flying\\nExpense Policy (2025 updates)\\n4\\nPlease note this is only reimbursable up to the cost of a flight.\\nAs previously mentioned, alternative modes of transportation or lodging are only reimbursable up to the cost \\nof a flight or hotel. To determined the reimbursable amount, log into Navan and search for flights/hotels at \\nthe same time and location of your trip. Look for in policy options and take a screenshot to submit with your \\nexpense report. \\nFor all mileage reimbursements that exceed $380 (based on miles travelled x mile rate), please use 'Ground \\nTransportation' as the category with a $380 amount (the limit we will reimburse for mileage expenses) in \\nAbacus or NAVAN. You must include in the notes the mileage calculation justifying using the max $380 limit. \\nPolicy effective as of November 2023.\\nIf traveling internationally to the US, you can expense necessary cell upgrades \\nCash tip (with a reasonable note detailing the occasion)\\nReimbursement timeline: \\nExpenses submitted through Abacus (US) and NAVAN (CA) will be approved weekly pending finance team \\navailability. Reimbursement happens a few business days after, pending recipient bank institution. Therefore, \\nexpect 2 weeks. \\nWhen expensing, please attach a receipt that includes the following information:\\nWhat the purchase was for\\nTotal amount spent\"),\n",
       " Document(metadata={}, page_content='## FAQ:\\nhttps://docs.google.com/presentation/d/18y4COUs1tdITt9VSimTVLRG8nDFTDQeE0w4Qao_B4NU/edit#slide=id.g2abb10e\\nFood/Lunch Specific FAQ\\nHow does \\nOffice Meals\\n  work?\\nAt your local office working: If in the office and ordering lunch, please keep your lunch order under $20\\nYou will NOT be taxed on it as it is a deminimus fringe benefit. Use GL Code \\nOffice Meals\\nTraveling for an onsite: Use GL Code \\nTravel - Meals\\nGetting coffee or a snack: Use GL Code \\nOffice Snacks/Coffee Runs\\n  but keep it reasonable and don’t abuse this. \\nSee here for details: \\n🥗\\nWFO Food and Drinks \\nHow can I use the \\nLunch Perks\\n  budget?\\nIt’s pretty flexible. Grocery stores, restaurant, food delivery, ect. \\nPro-Tip: GrubHub+ is free for Amazon Prime members. Free deliveries and lower fees! (similar to Dashpass)\\nIt is NOT for shopping (ie. department stores, retail stores). \\nWhat if I go over the $100/week? \\nThat’s okay. Just even it out the following week. \\nBulk purchases like $200 at Price Chopper for 2 weeks is okay.\\nPlease do not abuse this perk and ruin it for the rest of us. We trust our employees and want to continue to \\nprovide this provided that people are compliant with the policies.\\nAs a general rule, think of it $400 for your trailing 4 weeks. (ie. don’t not use it for 3 months and then use 4 \\nmonths of budget in month 4)\\nWhy a month? Ideally the lag is just 1 week but we know that some people buy in bulk and want to give some \\nflexibility. Please try to stick to the total of $100/week average for the month. \\nCan I expense a Meal with a co-worker using my IO card?\\nExpense Policy (2025 updates)\\n5\\nVisiting a city and want to meet up with a remote co-worker. That’s great. Feel free to under your \\nLunch Perks\\n . \\nIf over your lunch budget, sounds like you are having a great time with your friend on your personal card. \\nCoffees are fine just like in the office.\\nExceptions: Sanctioned happy hours/holiday parties/local events. or ask your manager to explain the valid'),\n",
       " Document(metadata={}, page_content='business purpose. We do want to support interaction. \\nSee Local office outings above\\nTraveling for work with a co-worker, we encourage you to put meals on just 1 card.\\nI’m traveling for work all week. Can I still use my $100/week lunch perk on top?\\nNo. The purpose of the lunch perk is to support your lunch expenses while working. If you are traveling for work, \\nthat is already covered as a travel expense (\\n Travel - Meals\\n . You should NOT also spend $100 at the grocery store\\nIf you are only traveling for part of the week, consider it a $20 per day pro-rated lunch budget\\nI’m on vacation/leave. Can I still use my $100/week \\nLunch Perks\\n ?\\nThe lunch perk is for food while working. Think of it as $20 pro-rated per day if you are on vacation. \\nExamples: Week of vacation = $0 lunch budget; 2 days of vacation = 3 days of working so $60 lunch budget\\nDo I need to add a receipt over $75 even for the \\nLunch Perks\\n ?\\nYes, this is an IRS requirement. \\nWhy haven’t we taxed Lunch Perks before?\\nWe didn’t have the ability for the cardholder to categorize their expenses in the product. We can’t tell if \\nthe restaurant you went to was a lunch perk, business meal, team happy hour, etc. But the concept is the \\nsame as the wellness benefit, which we moved to Benepass for tracking purposes in 2023. We did not \\nwant to move the lunch perk to benepass as we want people to use our product, the IO. \\nWhat if I forgot to categorize my \\nLunch Perks\\n ?\\nIf Restaurants, Grocery Stores, and Food Delivery under $200, Accounting will assume it is Lunch Perks unless \\notherwise internally categorized\\nYou must categorize by the 1st of every month for the prior month\\nCan I use my personal card and expense it?\\nNo.\\nWhat is \\nLunch Perks\\n  vs. \\nBusiness Meals\\n ?\\n\"lunch perks\" (working from home, mercury is paying for my lunch cause we have this cool lunch budget)\\nvs. Meal-Business (if I didnt work at a cool company like mercury, I would only get lunch if it was a legit overtime'),\n",
       " Document(metadata={}, page_content='meal, the occasional meeting over lunch)\\nOther Expensing FAQ\\nWhat are our Perks?\\n🎨\\nPerks  \\nI accidentally used my IO card on a personal expense?\\nSee instructions here. FAQ section.\\nHow do I use the Wellness Benefit of $300/qtr and $1k/year L&D budget?\\nUse Benepass, NOT your IO card nor Abacus/NAVAN. More info here: \\n💆\\u200d♀️\\nMercury Wellness \\nHow do I categorize my IO card expenses?\\n💳\\nCredit Card Categorization Policy \\nExpense Policy (2025 updates)\\n6\\nShould I use the IO card or Debit card?\\nIO Card. As of Q2 2024, all employee Debit Cards have been suspended. Having all spend happen through IO \\nCredit Cards streamlines proper spend control and accounting\\nHow can I send an employee a gift (ie. Baby, Marriage, Condolence, Graduation)?\\n1)  In #people-ops-request, submit a “Cosmic Care Request”\\n2) Otherwise, Please get gifts or bonuses approved by Finance. Gift cards for example are considered bonuses \\nand must be taxed\\nCan I Expense the following on the IO card (when using for work purposes):\\nApple Care+ for my laptop: Request approval from #ops-request. \\nLounge access: No\\nPro-Tip: check your personal credit card like Chase Sapphire Reserve or Amex Platinum or Capital One \\nVenture X\\nGitHub Co-pilot: Yes\\nWifi on plane when traveling for work: Yes. Code as \\nTravel - Other/Wifi\\nChatGPT+: Yes\\nCan I expense Equipment?\\nSee\\n \\nNew Hire Equipment Info\\nThis is separate from WFH $600 one time budget to be expensed via Abacus or Navan. Examples: home \\noffice furniture or other non-standard work items that increase productivity (e.g. desk, chair, theracane, air \\npurifier, power strip, mouse pad, laptop case, desk lamp)\\nPlease use the “Equipment Requests” workflow in #people-ops-requests. This helps us track equipment on a \\nspecific equipment IO card.\\nStandard work equipment — we will buy this for you (e.g. laptop, keyboard, monitor, headphones, mouse, \\nlaptop stand).  \\nExpense Policy (2025 updates)\\n7\\nHow do I request a credit limit change or a new card?'),\n",
       " Document(metadata={}, page_content='Expense Policy (2025 updates)\\n7\\nHow do I request a credit limit change or a new card?\\nUse the Workflow in #io-credit-limit-changes-or-card-requests\\nPlease request at least 1 business day before\\nCategorizing my card is a lot of effort. Do I have to?\\nI know, I’m sorry but yes. The good news is you work at a company that is trying to solve these pain points. Feel \\nfree to make suggestions to the cards/system team \\n🙂\\nCan’t you just do it for me? 1) It’s over 10k+ transactions a month. We can’t do that manually. 2) We don’t know \\nwhat you used it for. The automatic “Mercury Category” that is populated by Spade from the MCC codes is only \\na high level category like “Restaurant”. That does not tell us if its a lunch perk, business meal, customer event, \\nteam happy hour, etc. 3) We don’t want to assume something is a lunch perk and tax you or assume it’s not and \\nnot tax you. The only way to tax you properly (for compliance reasons) is for you to tag it properly. 4) If its \\nannoying for us, its annoying to our customers. Let’s solve for it. \\nI have identified a fraudulent/unauthorized transaction(s) in my card. What do I do?\\nSee guidance here: \\n🆘\\n\\xa0I have identified a fraudulent/unauthorized transaction(s) in my card. What do I do?\\nTax FAQ\\nWhy am I being taxed on lunch perks?\\nAs a general rule, the IRS requires anything an employer gives to employees, like fringe benefits, as taxable \\ncompensation\\nLunches at home do not pass the exceptions of the in-office meals as noted below\\nThis is similar to the Wellness benefit.\\nWhy are we NOT taxed if having lunch in the office?\\nThere is an exception for employer provided meals to be a “deminimis fringe benefit” and not be taxed if:\\nIn kind: there is no cash alternative for not taking a meal\\nOn the employer’s business premises: \\n✅\\nFor the convenience of the employer: bulk orders makes it easier for the office managers and tracking would'),\n",
       " Document(metadata={}, page_content='be very difficult. It would also take time away for employees to go get food or figure out ordering on their \\nown. \\nWhy now? We weren’t taxed before. \\nExpense Policy (2025 updates)\\n8\\nWithout categorization by the cardholder, we could not accurately differentiate a lunch perk meal from another \\ntype of meal (travel, business, happy hour, etc). It would be unfair to tax each person $100/week if they didn’t \\nuse the benefit or if someone went over. Also, we have grown a lot and now it is a material amount\\nWe now have the ability for categorization in the product.  \\nWhy don’t we use Benepass or just get extra $100/wk on our paycheck?\\nWe want employees to use their IO card. As the product continues to evolve, we can use this use case to \\ncontinue to make features that will make this process easier for us and our customers\\nWhat about Canadians?\\n$100 in USD is the budget (not $100 CAD). \\nIt is still a taxable benefit? Yes. Taxed similar to Wellness. \\n its not a overtime meal or a subsidized meal with the employee paying a reasonable charge. therefore, it is a \\ntaxable benefit. Per CRA:\\nWhat about Deel Employees?\\nDeel employees should not use the IO card for lunch budget as taxable benefits must go through Deel. \\nOther work expenses like travel and and ZIP-approved software can go on the IO\\nWhy aren’t we increasing the lunch budget?\\nThe lunch budget is already a great perk. We are just rightsizing the compliance side of it as we should have \\nbeen taxing from the beginning. We look at all of the benefits that we offer as a whole. Having the budget, even if \\ntaxed, is better than not having it at all.  It’s also a very expensive benefit for us.\\nWhat are the tax consequences?\\nWellness via Benepass: You will be taxed as a benefit similar to a bonus. \\nThis is done monthly in arrears. (January is taxed on your Feb paycheck). In 2023, this was done quarterly in \\narrears. \\nLunch Perk: Starting 1/1/24, this will be taxed. \\nExpense Policy (2025 updates)\\n9'),\n",
       " Document(metadata={}, page_content='arrears. \\nLunch Perk: Starting 1/1/24, this will be taxed. \\nExpense Policy (2025 updates)\\n9\\nThis is done monthly in arrears. (January is taxed on your Feb paycheck). \\nMercury has to pay Employer Payroll-taxes\\nBusiness Meals, Travel meals, In-office meals: Employees are NOT taxed\\nCompany gets a 50% tax deduction for business meals.\\nWork from office meals: Employees are NOT taxed\\nThese are considered de-minimus fringe benefits so employees are NOT taxed. It is important to categorize \\nthem as “Business meals” and NOT Meals-perks. However, you should be deducting it from your weekly \\n$100 lunch budget and not double dipping. The difference is just the tax implications. \\n Company gets a 50% tax deduction for business meals.\\nCompany/Team Events/meals/HH for social purposes: Employees are NOT taxed\\nCompany gets a 100% tax deduction. This is why it’s important to categorize correctly.\\nWant to learn more about taxes? \\nEnjoy the read: Meals/Entertainments'),\n",
       " Document(metadata={}, page_content='## Additional Resources\\n✈️\\nTeam Travel Hub \\n👯\\nPayroll FAQs \\n💓\\nPeople (“HR”) \\n(managed by the People team)\\nQ&A Slide Deck on Lunch Perk Taxation\\nExpense Policy (2025 updates)\\n10')]"
      ]
     },
     "execution_count": 32,
     "metadata": {},
     "output_type": "execute_result"
    }
   ],
   "execution_count": 32
  },
  {
   "metadata": {},
   "cell_type": "markdown",
   "source": "### VectorStore Time",
   "id": "e35f6a219516aeab"
  },
  {
   "metadata": {
    "ExecuteTime": {
     "end_time": "2025-02-14T04:11:32.700031Z",
     "start_time": "2025-02-14T04:11:31.863218Z"
    }
   },
   "cell_type": "code",
   "source": [
    "\n",
    "import numpy as np\n",
    "faiss_index = FAISS.from_documents(default_policy_chunks, embeddings)"
   ],
   "id": "4d569f944fc02e2f",
   "outputs": [],
   "execution_count": 33
  },
  {
   "metadata": {
    "ExecuteTime": {
     "end_time": "2025-02-14T04:11:33.466733Z",
     "start_time": "2025-02-14T04:11:33.438096Z"
    }
   },
   "cell_type": "code",
   "source": "faiss_index.similarity_search('Lunch Perk')",
   "id": "f0d7cf73d6c92dd7",
   "outputs": [
    {
     "data": {
      "text/plain": [
       "[Document(id='fc981a5b-018e-4991-bb16-065ce927fba6', metadata={}, page_content='## Mercury Card Uses\\nAccounting page is available in Mercury (web)\\n to better review and categorize all your IO transactions.\\n GL Code\\n  for each \\ntransaction can be chosen (individually) via the latest iOS/Android app as well\\nGL Code\\n  is what we need. \\nBecause of timely financial and payroll reporting needs, being out of office does not \\nabsolve us from coding our transactions on time. Please plan accordingly\\nLunch Perks\\n  = $100 per week for Meals\\nDo not double dip\\n. The purpose of this perk is to provide lunch during your work day. If you are traveling for work or \\non vacation or on leave, then you should not also spend your lunch perk on top of that\\nIf you are over/under for a week, that’s okay and you can even it out the next week\\nA bulk purchase for the month is okay too. Example: Spend $400 at Price Chopper and don’t use your card for \\nLunch Perks for 4 weeks\\nAlthough not an immediate use of the perk, gift cards for services like DoorDash or Uber Eats are allowed within \\nreason. Please ensure the purchase is properly categorized (GL Code: \\nLunch Perks\\n ) as it may auto-categorize as \\nSoftware\\n  because of its specific nature\\nAs a rule of thumb, the prorated amount is $20/day. Here are some examples:\\nIf you are at an offsite for 4 days, those are travel meals or team events. Do not double dip your lunch budget. \\nYou have 1 day of lunch budget remaining, so prorated at $20\\nExpense Policy (2025 updates)\\n2\\nYou are on vacation 3 days, then you have 2 days or $40 of lunch budget\\nMonday is a Holiday and you work Tuesday-Thursday. Your lunch budget for the week is $80\\nYou and a coworker go to lunch and spend $50 each. You each used $50 of your $100/wk lunch budget\\n✈️\\n\\xa0\\nWhen traveling for work (including onsites):\\nGENERAL GUIDANCE\\n: If the spend is for transportation, \\nuse the transportation GL Codes like \\nGround Transportation\\n  or \\nAirfare\\n .\\n \\nIf the spend is for Lodging, use the GL Code \\nLodging\\n . — Do not change these based on intent/project —'),\n",
       " Document(id='b4cbb5ca-ff9b-4f05-bbb6-6af23bb5663f', metadata={}, page_content='business purpose. We do want to support interaction. \\nSee Local office outings above\\nTraveling for work with a co-worker, we encourage you to put meals on just 1 card.\\nI’m traveling for work all week. Can I still use my $100/week lunch perk on top?\\nNo. The purpose of the lunch perk is to support your lunch expenses while working. If you are traveling for work, \\nthat is already covered as a travel expense (\\n Travel - Meals\\n . You should NOT also spend $100 at the grocery store\\nIf you are only traveling for part of the week, consider it a $20 per day pro-rated lunch budget\\nI’m on vacation/leave. Can I still use my $100/week \\nLunch Perks\\n ?\\nThe lunch perk is for food while working. Think of it as $20 pro-rated per day if you are on vacation. \\nExamples: Week of vacation = $0 lunch budget; 2 days of vacation = 3 days of working so $60 lunch budget\\nDo I need to add a receipt over $75 even for the \\nLunch Perks\\n ?\\nYes, this is an IRS requirement. \\nWhy haven’t we taxed Lunch Perks before?\\nWe didn’t have the ability for the cardholder to categorize their expenses in the product. We can’t tell if \\nthe restaurant you went to was a lunch perk, business meal, team happy hour, etc. But the concept is the \\nsame as the wellness benefit, which we moved to Benepass for tracking purposes in 2023. We did not \\nwant to move the lunch perk to benepass as we want people to use our product, the IO. \\nWhat if I forgot to categorize my \\nLunch Perks\\n ?\\nIf Restaurants, Grocery Stores, and Food Delivery under $200, Accounting will assume it is Lunch Perks unless \\notherwise internally categorized\\nYou must categorize by the 1st of every month for the prior month\\nCan I use my personal card and expense it?\\nNo.\\nWhat is \\nLunch Perks\\n  vs. \\nBusiness Meals\\n ?\\n\"lunch perks\" (working from home, mercury is paying for my lunch cause we have this cool lunch budget)\\nvs. Meal-Business (if I didnt work at a cool company like mercury, I would only get lunch if it was a legit overtime'),\n",
       " Document(id='1be712c5-02e6-40bf-9a0a-2f508c82f984', metadata={}, page_content=\"## Overview\\nStarting 01/01/24, \\nLunch Perks\\n  will be taxed on a monthly basis (similar to wellness benefits) and must be categorized as \\nsuch by the cardholder using Mercury.com’s Accounting Page or the mobile app\\nAll, not just Lunch Perks, card transactions must be categorized \\n(\\n GL Code\\n  is what we need) by the 1st of the following \\nmonth\\nFollow our \\nCredit Card Categorization Policy\\nThis (coupled with the need for a receipt on file for any transaction > $75) will align Mercury with IRS guidance. We \\ndo not make these rules but are getting compliant with them\\nThe standard $250 Daily Credit Limit will be switching to a $500 Monthly Credit Limit starting 02/01/24\\nExpense Policy (2025 updates)\\n1\\nWhat’s not changing?\\nThe Lunch Perks aka Meal Perks (GL Code = \\nLunch Perks\\n ). It’s a great perk we just want to provide clarification on how to \\nuse it and become compliant with regulations\\nOffice Meals\\n  (aka in-office mea\\nls) will NOT count towards the $100/week budget and will NOT be taxed\\nThese are organized by Workplace Ops\\nOffice Snacks/Coffee Runs\\nCoffee runs. We still encourage coffee runs with your co-worker when in the office! Label as “Office Meals”\\nSnacks in the office. We know you love snacks, we do too! These are purchased by the Workplace Ops team. Let \\nthem know if you have requests\\nAs a general rule of thumb:\\nWhen using your personal card (on the rare occasion it is needed), save receipts and expense via Abacus (US) or \\nNAVAN (CAN)\\nWhen using your Mercury card on transactions over $75, please attach receipts to the corresponding transaction in \\nMercury. Please always code (categorize) the transaction\\nIndirect costs associated with travel for Mercury events are the employee's responsibility (e.g. pet boarding)\"),\n",
       " Document(id='2d95ce43-b31a-4f9d-9662-b358345c55a8', metadata={}, page_content='arrears. \\nLunch Perk: Starting 1/1/24, this will be taxed. \\nExpense Policy (2025 updates)\\n9\\nThis is done monthly in arrears. (January is taxed on your Feb paycheck). \\nMercury has to pay Employer Payroll-taxes\\nBusiness Meals, Travel meals, In-office meals: Employees are NOT taxed\\nCompany gets a 50% tax deduction for business meals.\\nWork from office meals: Employees are NOT taxed\\nThese are considered de-minimus fringe benefits so employees are NOT taxed. It is important to categorize \\nthem as “Business meals” and NOT Meals-perks. However, you should be deducting it from your weekly \\n$100 lunch budget and not double dipping. The difference is just the tax implications. \\n Company gets a 50% tax deduction for business meals.\\nCompany/Team Events/meals/HH for social purposes: Employees are NOT taxed\\nCompany gets a 100% tax deduction. This is why it’s important to categorize correctly.\\nWant to learn more about taxes? \\nEnjoy the read: Meals/Entertainments')]"
      ]
     },
     "execution_count": 34,
     "metadata": {},
     "output_type": "execute_result"
    }
   ],
   "execution_count": 34
  },
  {
   "metadata": {
    "ExecuteTime": {
     "end_time": "2025-02-14T04:38:10.609326Z",
     "start_time": "2025-02-14T04:38:06.472955Z"
    }
   },
   "cell_type": "code",
   "source": [
    "from langchain.vectorstores import FAISS\n",
    "from langchain.embeddings.openai import OpenAIEmbeddings\n",
    "from langchain.chains import RetrievalQA\n",
    "from langchain.chat_models import ChatOpenAI\n",
    "from langchain.prompts import PromptTemplate\n",
    "from pydantic import BaseModel, Field, HttpUrl\n",
    "from typing import Optional, List, Literal\n",
    "from enum import Enum\n",
    "from langchain_core.output_parsers import JsonOutputParser, PydanticOutputParser\n",
    "from langchain.output_parsers import OutputFixingParser\n",
    "\n",
    "# Step 1: Create Embeddings and Load FAISS Vector Store\n",
    "retriever = faiss_index.as_retriever()\n",
    "\n",
    "class ApprovalResponse(BaseModel):\n",
    "    policy_flag: Literal['Allowed', 'Disallowed', 'More Information Required'] = Field(..., description=\"Indicates the policy status of the transaction.\")\n",
    "    policy_explanation: str = Field(..., description=\"Relevant information from the policy documents justifying the policy_flag value.\")\n",
    "    recommendation: str = Field(..., description=\"Recommendation containing next steps for additional information, or updating categories/GL codes for the transaction.\")\n",
    "\n",
    "policy_llm = base_llm.with_structured_output(ApprovalResponse)\n",
    "policy_parser = PydanticOutputParser(pydantic_object=ApprovalResponse)\n",
    "\n",
    "# Step 2: Define a Custom Prompt Template\n",
    "custom_prompt = PromptTemplate(\n",
    "    input_variables=[\"context\", \"question\"],\n",
    "    template=\"\"\"\n",
    "    You are an intelligent assistant that responds in strict JSON format with the following fields:\n",
    "      - policy_flag: ['Allowed', 'Disallowed', 'More Information Required']\n",
    "      - policy_explanation: Justification for the policy_flag value\n",
    "      - recommendation: Next steps for resolving the transaction\n",
    "\n",
    "    Context:\n",
    "    {context}\n",
    "\n",
    "    Question:\n",
    "    {question}\n",
    "\n",
    "    Respond in JSON format:\n",
    "    \"\"\"\n",
    ")\n",
    "\n",
    "output_fixing_parser = OutputFixingParser.from_llm(\n",
    "    llm=base_llm,\n",
    "    parser=policy_parser\n",
    ")\n",
    "\n",
    "qa_chain = RetrievalQA.from_chain_type(\n",
    "    llm=base_llm,\n",
    "    chain_type=\"stuff\",\n",
    "    retriever=retriever,\n",
    "    chain_type_kwargs={\"prompt\": custom_prompt}\n",
    ")\n",
    "\n",
    "query = \"United Airlines: $5500 Belarus\"\n",
    "answer = qa_chain.invoke(query)\n",
    "\n",
    "result = output_fixing_parser.parse(answer.get('result'))\n"
   ],
   "id": "3777233ff3629e6b",
   "outputs": [],
   "execution_count": 75
  },
  {
   "metadata": {
    "ExecuteTime": {
     "end_time": "2025-02-14T04:38:13.248024Z",
     "start_time": "2025-02-14T04:38:13.243506Z"
    }
   },
   "cell_type": "code",
   "source": "result",
   "id": "93c0d93fe5547808",
   "outputs": [
    {
     "data": {
      "text/plain": [
       "ApprovalResponse(policy_flag='Disallowed', policy_explanation='The expense of $5500 for United Airlines to Belarus exceeds the allowable reimbursement for airfare, which is capped at the cost of a flight. Additionally, no justification for this expense has been provided, and it does not align with the stated reimbursement policies.', recommendation='Please provide a detailed justification for this expense and ensure that it falls within the allowable reimbursement limits. If this is a legitimate business expense, consider resubmitting with proper documentation and within policy guidelines.')"
      ]
     },
     "execution_count": 76,
     "metadata": {},
     "output_type": "execute_result"
    }
   ],
   "execution_count": 76
  },
  {
   "metadata": {
    "ExecuteTime": {
     "end_time": "2025-02-14T04:56:04.851404Z",
     "start_time": "2025-02-14T04:56:04.847109Z"
    }
   },
   "cell_type": "code",
   "source": [
    "def policy_chain(input=None):\n",
    "\n",
    "    answer = qa_chain.invoke(input)\n",
    "    result = output_fixing_parser.parse(answer.get('result'))\n",
    "\n",
    "    return result"
   ],
   "id": "ea00fc4e8b4b946f",
   "outputs": [],
   "execution_count": 77
  },
  {
   "metadata": {
    "ExecuteTime": {
     "end_time": "2025-02-14T04:56:22.048978Z",
     "start_time": "2025-02-14T04:56:17.815061Z"
    }
   },
   "cell_type": "code",
   "source": "policy_chain(\"United Airlines: $5500 Belarus\")",
   "id": "b954ced176dea5ae",
   "outputs": [
    {
     "data": {
      "text/plain": [
       "ApprovalResponse(policy_flag='Disallowed', policy_explanation='The expense of $5500 for United Airlines exceeds the allowable reimbursement for airfare, which must be up to the cost of a flight determined through Navan. There is no justification provided for this amount being within policy.', recommendation='Please provide a screenshot of comparable flight costs from Navan to determine the reimbursable amount. If the expense is for a specific company event, ensure it aligns with the approved budget and use the correct GL Code.')"
      ]
     },
     "execution_count": 78,
     "metadata": {},
     "output_type": "execute_result"
    }
   ],
   "execution_count": 78
  },
  {
   "metadata": {},
   "cell_type": "code",
   "outputs": [],
   "execution_count": null,
   "source": "",
   "id": "4b302a73f3be0d02"
  }
 ],
 "metadata": {
  "kernelspec": {
   "display_name": "Python 3",
   "language": "python",
   "name": "python3"
  },
  "language_info": {
   "codemirror_mode": {
    "name": "ipython",
    "version": 2
   },
   "file_extension": ".py",
   "mimetype": "text/x-python",
   "name": "python",
   "nbconvert_exporter": "python",
   "pygments_lexer": "ipython2",
   "version": "2.7.6"
  }
 },
 "nbformat": 4,
 "nbformat_minor": 5
}
