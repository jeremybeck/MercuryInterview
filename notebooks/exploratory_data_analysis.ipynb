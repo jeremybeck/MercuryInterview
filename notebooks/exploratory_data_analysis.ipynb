{
 "cells": [
  {
   "metadata": {},
   "cell_type": "markdown",
   "source": [
    "### Mercury Interview Take-Home Assignment\n",
    "\n",
    "Completed by Jeremy Beck"
   ],
   "id": "9a0c0be9c533379"
  },
  {
   "metadata": {
    "ExecuteTime": {
     "end_time": "2025-02-13T21:38:27.812876Z",
     "start_time": "2025-02-13T21:38:27.810256Z"
    }
   },
   "cell_type": "code",
   "source": [
    "### Imports\n",
    "\n",
    "import pandas as pd"
   ],
   "id": "2aaa970872cb3272",
   "outputs": [],
   "execution_count": 5
  },
  {
   "metadata": {
    "ExecuteTime": {
     "end_time": "2025-02-13T21:38:29.633931Z",
     "start_time": "2025-02-13T21:38:28.867585Z"
    }
   },
   "cell_type": "code",
   "source": "expense_data = pd.read_excel('../data/Mercury Transactions Example Safe to Share - 20250211 - Send.xlsx')",
   "id": "ad7969338154abe8",
   "outputs": [],
   "execution_count": 6
  },
  {
   "metadata": {
    "ExecuteTime": {
     "end_time": "2025-02-13T21:38:33.203066Z",
     "start_time": "2025-02-13T21:38:33.176955Z"
    }
   },
   "cell_type": "code",
   "source": "expense_data.head()",
   "id": "a8193ec332591623",
   "outputs": [
    {
     "data": {
      "text/plain": [
       "                         TRANSACTION_ID  AMOUNT        BANK_DESCRIPTION  \\\n",
       "0  fe1c19ec-b2a4-11ef-b1b2-41ae674c4a95  -51.95  DD *DOORDASH RUBIOSCOA   \n",
       "1  f3456356-d901-11ef-8852-11afbe1a64a1   -4.25      WHOLEFDS NOE 10379   \n",
       "2  f2573764-e363-11ef-b893-7d81186f02a4  -18.64        UBER   * PENDING   \n",
       "3  f0fe4792-d830-11ef-b9a5-09adaa818648  -20.00  CLAUDE.AI SUBSCRIPTION   \n",
       "4  f0b422ea-e738-11ef-946e-21d6cbbc7cae  -88.93              VONS #3329   \n",
       "\n",
       "               CREATED_AT                    CREATED_BY_USER_ID  \\\n",
       "0 2024-12-05 01:05:17.941  a2ea8cb0-0897-11ee-a215-d363ac8f2402   \n",
       "1 2025-01-22 20:46:27.133  407ad836-1562-11ef-9830-97f5cdd6c5fb   \n",
       "2 2025-02-05 01:53:07.879  032070ee-0bb8-11ef-8883-1f4b394514c7   \n",
       "3 2025-01-21 19:50:18.493  02f1adf2-9b20-11ef-83d7-6b146210112a   \n",
       "4 2025-02-09 22:55:21.424  a2ea8cb0-0897-11ee-a215-d363ac8f2402   \n",
       "\n",
       "                KIND NOTE REASON_FOR_FAILURE STATUS TRANSACTION_PARTY_NAME  \\\n",
       "0  CreditPaymentKind  NaN                NaN   Sent               Doordash   \n",
       "1  CreditPaymentKind  NaN                NaN   Sent     Whole Foods Market   \n",
       "2  CreditPaymentKind  NaN                NaN   Sent                   Uber   \n",
       "3  CreditPaymentKind  NaN                NaN   Sent              Anthropic   \n",
       "4  CreditPaymentKind  NaN                NaN   Sent                   Vons   \n",
       "\n",
       "   ... TRANSACTION_CATEGORY CATEGORY_CHANGED_BY CATEGORY_MANUALLY_UPDATED_AT  \\\n",
       "0  ...          Restaurants                 NaN                          NaT   \n",
       "1  ...              Grocery                 NaN                          NaT   \n",
       "2  ...                  NaN                 NaN                          NaT   \n",
       "3  ...                  NaN                 NaN                          NaT   \n",
       "4  ...                  NaN                 NaN                          NaT   \n",
       "\n",
       "             CREATED_AT.1  GL_CODE_MANUALLY_UPDATED_AT MERCURY_CATEGORY  \\\n",
       "0 2024-12-05 01:06:04.939      2024-12-31 22:36:59.924      Restaurants   \n",
       "1 2025-01-22 20:47:07.137                          NaT          Grocery   \n",
       "2 2025-02-05 01:54:09.718                          NaT              NaN   \n",
       "3 2025-01-21 19:51:10.562                          NaT              NaN   \n",
       "4 2025-02-09 22:56:10.683                          NaT              NaN   \n",
       "\n",
       "   MERCHANT_CITY  MERCHANT_STATE  MERCHANT_COUNTRY     MERCHANT_DESCRIPTOR  \n",
       "0            NaN             NaN               USA  DD *DOORDASH RUBIOSCOA  \n",
       "1  SAN FRANCISCO              CA               USA      WHOLEFDS NOE 10379  \n",
       "2  SAN FRANCISCO              CA               USA        UBER   * PENDING  \n",
       "3            NaN              CA               USA  CLAUDE.AI SUBSCRIPTION  \n",
       "4  SANTA BARBARA              CA               USA              VONS #3329  \n",
       "\n",
       "[5 rows x 34 columns]"
      ],
      "text/html": [
       "<div>\n",
       "<style scoped>\n",
       "    .dataframe tbody tr th:only-of-type {\n",
       "        vertical-align: middle;\n",
       "    }\n",
       "\n",
       "    .dataframe tbody tr th {\n",
       "        vertical-align: top;\n",
       "    }\n",
       "\n",
       "    .dataframe thead th {\n",
       "        text-align: right;\n",
       "    }\n",
       "</style>\n",
       "<table border=\"1\" class=\"dataframe\">\n",
       "  <thead>\n",
       "    <tr style=\"text-align: right;\">\n",
       "      <th></th>\n",
       "      <th>TRANSACTION_ID</th>\n",
       "      <th>AMOUNT</th>\n",
       "      <th>BANK_DESCRIPTION</th>\n",
       "      <th>CREATED_AT</th>\n",
       "      <th>CREATED_BY_USER_ID</th>\n",
       "      <th>KIND</th>\n",
       "      <th>NOTE</th>\n",
       "      <th>REASON_FOR_FAILURE</th>\n",
       "      <th>STATUS</th>\n",
       "      <th>TRANSACTION_PARTY_NAME</th>\n",
       "      <th>...</th>\n",
       "      <th>TRANSACTION_CATEGORY</th>\n",
       "      <th>CATEGORY_CHANGED_BY</th>\n",
       "      <th>CATEGORY_MANUALLY_UPDATED_AT</th>\n",
       "      <th>CREATED_AT.1</th>\n",
       "      <th>GL_CODE_MANUALLY_UPDATED_AT</th>\n",
       "      <th>MERCURY_CATEGORY</th>\n",
       "      <th>MERCHANT_CITY</th>\n",
       "      <th>MERCHANT_STATE</th>\n",
       "      <th>MERCHANT_COUNTRY</th>\n",
       "      <th>MERCHANT_DESCRIPTOR</th>\n",
       "    </tr>\n",
       "  </thead>\n",
       "  <tbody>\n",
       "    <tr>\n",
       "      <th>0</th>\n",
       "      <td>fe1c19ec-b2a4-11ef-b1b2-41ae674c4a95</td>\n",
       "      <td>-51.95</td>\n",
       "      <td>DD *DOORDASH RUBIOSCOA</td>\n",
       "      <td>2024-12-05 01:05:17.941</td>\n",
       "      <td>a2ea8cb0-0897-11ee-a215-d363ac8f2402</td>\n",
       "      <td>CreditPaymentKind</td>\n",
       "      <td>NaN</td>\n",
       "      <td>NaN</td>\n",
       "      <td>Sent</td>\n",
       "      <td>Doordash</td>\n",
       "      <td>...</td>\n",
       "      <td>Restaurants</td>\n",
       "      <td>NaN</td>\n",
       "      <td>NaT</td>\n",
       "      <td>2024-12-05 01:06:04.939</td>\n",
       "      <td>2024-12-31 22:36:59.924</td>\n",
       "      <td>Restaurants</td>\n",
       "      <td>NaN</td>\n",
       "      <td>NaN</td>\n",
       "      <td>USA</td>\n",
       "      <td>DD *DOORDASH RUBIOSCOA</td>\n",
       "    </tr>\n",
       "    <tr>\n",
       "      <th>1</th>\n",
       "      <td>f3456356-d901-11ef-8852-11afbe1a64a1</td>\n",
       "      <td>-4.25</td>\n",
       "      <td>WHOLEFDS NOE 10379</td>\n",
       "      <td>2025-01-22 20:46:27.133</td>\n",
       "      <td>407ad836-1562-11ef-9830-97f5cdd6c5fb</td>\n",
       "      <td>CreditPaymentKind</td>\n",
       "      <td>NaN</td>\n",
       "      <td>NaN</td>\n",
       "      <td>Sent</td>\n",
       "      <td>Whole Foods Market</td>\n",
       "      <td>...</td>\n",
       "      <td>Grocery</td>\n",
       "      <td>NaN</td>\n",
       "      <td>NaT</td>\n",
       "      <td>2025-01-22 20:47:07.137</td>\n",
       "      <td>NaT</td>\n",
       "      <td>Grocery</td>\n",
       "      <td>SAN FRANCISCO</td>\n",
       "      <td>CA</td>\n",
       "      <td>USA</td>\n",
       "      <td>WHOLEFDS NOE 10379</td>\n",
       "    </tr>\n",
       "    <tr>\n",
       "      <th>2</th>\n",
       "      <td>f2573764-e363-11ef-b893-7d81186f02a4</td>\n",
       "      <td>-18.64</td>\n",
       "      <td>UBER   * PENDING</td>\n",
       "      <td>2025-02-05 01:53:07.879</td>\n",
       "      <td>032070ee-0bb8-11ef-8883-1f4b394514c7</td>\n",
       "      <td>CreditPaymentKind</td>\n",
       "      <td>NaN</td>\n",
       "      <td>NaN</td>\n",
       "      <td>Sent</td>\n",
       "      <td>Uber</td>\n",
       "      <td>...</td>\n",
       "      <td>NaN</td>\n",
       "      <td>NaN</td>\n",
       "      <td>NaT</td>\n",
       "      <td>2025-02-05 01:54:09.718</td>\n",
       "      <td>NaT</td>\n",
       "      <td>NaN</td>\n",
       "      <td>SAN FRANCISCO</td>\n",
       "      <td>CA</td>\n",
       "      <td>USA</td>\n",
       "      <td>UBER   * PENDING</td>\n",
       "    </tr>\n",
       "    <tr>\n",
       "      <th>3</th>\n",
       "      <td>f0fe4792-d830-11ef-b9a5-09adaa818648</td>\n",
       "      <td>-20.00</td>\n",
       "      <td>CLAUDE.AI SUBSCRIPTION</td>\n",
       "      <td>2025-01-21 19:50:18.493</td>\n",
       "      <td>02f1adf2-9b20-11ef-83d7-6b146210112a</td>\n",
       "      <td>CreditPaymentKind</td>\n",
       "      <td>NaN</td>\n",
       "      <td>NaN</td>\n",
       "      <td>Sent</td>\n",
       "      <td>Anthropic</td>\n",
       "      <td>...</td>\n",
       "      <td>NaN</td>\n",
       "      <td>NaN</td>\n",
       "      <td>NaT</td>\n",
       "      <td>2025-01-21 19:51:10.562</td>\n",
       "      <td>NaT</td>\n",
       "      <td>NaN</td>\n",
       "      <td>NaN</td>\n",
       "      <td>CA</td>\n",
       "      <td>USA</td>\n",
       "      <td>CLAUDE.AI SUBSCRIPTION</td>\n",
       "    </tr>\n",
       "    <tr>\n",
       "      <th>4</th>\n",
       "      <td>f0b422ea-e738-11ef-946e-21d6cbbc7cae</td>\n",
       "      <td>-88.93</td>\n",
       "      <td>VONS #3329</td>\n",
       "      <td>2025-02-09 22:55:21.424</td>\n",
       "      <td>a2ea8cb0-0897-11ee-a215-d363ac8f2402</td>\n",
       "      <td>CreditPaymentKind</td>\n",
       "      <td>NaN</td>\n",
       "      <td>NaN</td>\n",
       "      <td>Sent</td>\n",
       "      <td>Vons</td>\n",
       "      <td>...</td>\n",
       "      <td>NaN</td>\n",
       "      <td>NaN</td>\n",
       "      <td>NaT</td>\n",
       "      <td>2025-02-09 22:56:10.683</td>\n",
       "      <td>NaT</td>\n",
       "      <td>NaN</td>\n",
       "      <td>SANTA BARBARA</td>\n",
       "      <td>CA</td>\n",
       "      <td>USA</td>\n",
       "      <td>VONS #3329</td>\n",
       "    </tr>\n",
       "  </tbody>\n",
       "</table>\n",
       "<p>5 rows × 34 columns</p>\n",
       "</div>"
      ]
     },
     "execution_count": 7,
     "metadata": {},
     "output_type": "execute_result"
    }
   ],
   "execution_count": 7
  },
  {
   "metadata": {
    "ExecuteTime": {
     "end_time": "2025-02-13T21:38:43.129552Z",
     "start_time": "2025-02-13T21:38:43.125093Z"
    }
   },
   "cell_type": "code",
   "source": "expense_data.shape",
   "id": "b58f8e1f4e58d584",
   "outputs": [
    {
     "data": {
      "text/plain": [
       "(165, 34)"
      ]
     },
     "execution_count": 8,
     "metadata": {},
     "output_type": "execute_result"
    }
   ],
   "execution_count": 8
  },
  {
   "metadata": {
    "ExecuteTime": {
     "end_time": "2025-02-13T21:39:31.478879Z",
     "start_time": "2025-02-13T21:39:31.470707Z"
    }
   },
   "cell_type": "code",
   "source": "expense_data.TRANSACTION_CATEGORY.value_counts()",
   "id": "b94f784dec3b89e",
   "outputs": [
    {
     "data": {
      "text/plain": [
       "TRANSACTION_CATEGORY\n",
       "Restaurants          22\n",
       "Grocery              11\n",
       "RideshareAndTaxis    11\n",
       "Fees                  6\n",
       "OtherTravel           3\n",
       "Lodging               2\n",
       "Software              2\n",
       "AlcoholAndBars        1\n",
       "Education             1\n",
       "Name: count, dtype: int64"
      ]
     },
     "execution_count": 10,
     "metadata": {},
     "output_type": "execute_result"
    }
   ],
   "execution_count": 10
  },
  {
   "metadata": {
    "ExecuteTime": {
     "end_time": "2025-02-13T21:39:56.193261Z",
     "start_time": "2025-02-13T21:39:56.187342Z"
    }
   },
   "cell_type": "code",
   "source": "expense_data.MERCURY_CATEGORY.value_counts()",
   "id": "490664b78c35b60c",
   "outputs": [
    {
     "data": {
      "text/plain": [
       "MERCURY_CATEGORY\n",
       "Restaurants          21\n",
       "Grocery              11\n",
       "RideshareAndTaxis    11\n",
       "Fees                  6\n",
       "OtherTravel           3\n",
       "Lodging               2\n",
       "Software              2\n",
       "AlcoholAndBars        1\n",
       "Education             1\n",
       "Name: count, dtype: int64"
      ]
     },
     "execution_count": 11,
     "metadata": {},
     "output_type": "execute_result"
    }
   ],
   "execution_count": 11
  },
  {
   "metadata": {
    "ExecuteTime": {
     "end_time": "2025-02-13T21:40:30.241666Z",
     "start_time": "2025-02-13T21:40:30.236309Z"
    }
   },
   "cell_type": "code",
   "source": "expense_data.GL_CODE.value_counts()",
   "id": "794c1bbb5be48dbc",
   "outputs": [
    {
     "data": {
      "text/plain": [
       "GL_CODE\n",
       "Lunch Perks                  23\n",
       "Ground Transportation        11\n",
       "Travel - Meals                2\n",
       "Lodging                       2\n",
       "Software                      2\n",
       "Other                         1\n",
       "Office Snacks/Coffee Runs     1\n",
       "Internal Events - Company     1\n",
       "Internal Events - Team        1\n",
       "Name: count, dtype: int64"
      ]
     },
     "execution_count": 12,
     "metadata": {},
     "output_type": "execute_result"
    }
   ],
   "execution_count": 12
  },
  {
   "metadata": {},
   "cell_type": "markdown",
   "source": [
    "### Initial Thoughts\n",
    "\n",
    "There isn't a lot of labeled data here, so we are likely going to have to start off using GenAI as opposed to more traditional ML methods."
   ],
   "id": "eb0b07f538b64e46"
  },
  {
   "metadata": {},
   "cell_type": "markdown",
   "source": "### Codes and Categories",
   "id": "9c1a5be8a9d2acf5"
  },
  {
   "metadata": {
    "ExecuteTime": {
     "end_time": "2025-02-13T21:53:21.171804Z",
     "start_time": "2025-02-13T21:53:21.154822Z"
    }
   },
   "cell_type": "code",
   "source": [
    "mercury_gl_codes = pd.read_excel('../data/Mercury GL Codes 20250211.xlsx')\n",
    "\n",
    "for row in mercury_gl_codes.iterrows():\n",
    "    print(row[1].NAME)"
   ],
   "id": "3c1e0d1dbfcec4ea",
   "outputs": [
    {
     "name": "stdout",
     "output_type": "stream",
     "text": [
      "Professional Fees and Services\n",
      "Travel - Meals\n",
      "Internal Events - Company\n",
      "Printing and Shipping\n",
      "Internal Gifts\n",
      "Customer Activation - Meals\n",
      "Advertising - Awareness\n",
      "Office Meals\n",
      "Lodging\n",
      "Advertising - Conversion\n",
      "Company ERG\n",
      "Business Meals\n",
      "Ground Transportation\n",
      "Sponsorships & Conferences\n",
      "Other\n",
      "Team Happy Hour\n",
      "Business Gifts - External\n",
      "Travel - Other/Wifi\n",
      "Customer-facing Mercury Events\n",
      "Repairs & Maintenance\n",
      "Computer Supplies\n",
      "Software\n",
      "VC Speedy Events\n",
      "Airfare\n",
      "Entertainment\n",
      "Dues & Subscriptions\n",
      "Lunch Perks\n",
      "Office Snacks/Coffee Runs\n",
      "Merch - External\n",
      "Office Expenses\n",
      "Disputed Charge\n",
      "Bank Fees\n",
      "Accidental Personal Charge\n",
      "Utilities\n",
      "Market Research\n",
      "Merch - Internal\n",
      "Professional Development\n",
      "Creative\n",
      "Building & Utilities Fees\n",
      "Internal Events - Team\n",
      "Branding\n"
     ]
    }
   ],
   "execution_count": 25
  },
  {
   "metadata": {
    "ExecuteTime": {
     "end_time": "2025-02-13T21:45:31.120137Z",
     "start_time": "2025-02-13T21:45:31.105938Z"
    }
   },
   "cell_type": "code",
   "source": "transaction_categories = pd.read_excel('../data/Transaction Categories - 20250211.xlsx')",
   "id": "a9992ecd9aa11ddf",
   "outputs": [],
   "execution_count": 18
  },
  {
   "metadata": {
    "ExecuteTime": {
     "end_time": "2025-02-13T21:54:45.558042Z",
     "start_time": "2025-02-13T21:54:45.547007Z"
    }
   },
   "cell_type": "code",
   "source": [
    "for row in transaction_categories.iterrows():\n",
    "    print(row[1].MERCURY_CATEGORY)"
   ],
   "id": "afcbce430b49a043",
   "outputs": [
    {
     "name": "stdout",
     "output_type": "stream",
     "text": [
      "Advertising\n",
      "Airlines\n",
      "AlcoholAndBars\n",
      "BooksAndNewspaper\n",
      "CarRental\n",
      "Charity\n",
      "Clothing\n",
      "Conferences\n",
      "Education\n",
      "Electronics\n",
      "Entertainment\n",
      "FacilitiesExpenses\n",
      "Fees\n",
      "FoodDelivery\n",
      "FuelAndGas\n",
      "Gambling\n",
      "GovernmentServices\n",
      "Grocery\n",
      "GroundTransportation\n",
      "Insurance\n",
      "InternetAndTelephone\n",
      "Legal\n",
      "Lodging\n",
      "Medical\n",
      "Memberships\n",
      "OfficeSupplies\n",
      "Other\n",
      "OtherTravel\n",
      "Parking\n",
      "Political\n",
      "ProfessionalServices\n",
      "Restaurants\n",
      "Retail\n",
      "RideshareAndTaxis\n",
      "Shipping\n",
      "Software\n",
      "Taxes\n",
      "Utilities\n",
      "VehicleExpenses\n"
     ]
    }
   ],
   "execution_count": 28
  },
  {
   "metadata": {},
   "cell_type": "markdown",
   "source": "Roughly 40 possibilies for each!",
   "id": "acbe4e6879fe6f32"
  },
  {
   "metadata": {},
   "cell_type": "code",
   "outputs": [],
   "execution_count": null,
   "source": "",
   "id": "9edecc20090fa1e3"
  }
 ],
 "metadata": {
  "kernelspec": {
   "display_name": "Python 3",
   "language": "python",
   "name": "python3"
  },
  "language_info": {
   "codemirror_mode": {
    "name": "ipython",
    "version": 2
   },
   "file_extension": ".py",
   "mimetype": "text/x-python",
   "name": "python",
   "nbconvert_exporter": "python",
   "pygments_lexer": "ipython2",
   "version": "2.7.6"
  }
 },
 "nbformat": 4,
 "nbformat_minor": 5
}
